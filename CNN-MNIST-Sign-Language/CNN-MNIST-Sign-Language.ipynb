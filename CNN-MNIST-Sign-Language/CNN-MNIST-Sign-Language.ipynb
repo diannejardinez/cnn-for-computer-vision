{
 "cells": [
  {
   "cell_type": "code",
   "execution_count": null,
   "metadata": {},
   "outputs": [],
   "source": []
  },
  {
   "cell_type": "markdown",
   "metadata": {},
   "source": [
    "Sign Language MNIST data dataset Kaggle Data Source: https://www.kaggle.com/datamunge/sign-language-mnist\n",
    "\n",
    "\n",
    "Image Source: https://www.kaggle.com/datamunge/sign-language-mnist\n",
    "Source Code/Inspiration: PacktPublishing ©  2019"
   ]
  },
  {
   "cell_type": "markdown",
   "metadata": {},
   "source": [
    "![](https://github.com/diannejardinez/cnn-for-computer-vision/blob/main/CNN-MNIST-Sign-Language/Images/amer_sign2.png)"
   ]
  },
  {
   "cell_type": "code",
   "execution_count": null,
   "metadata": {},
   "outputs": [],
   "source": []
  }
 ],
 "metadata": {
  "kernelspec": {
   "display_name": "Python 3",
   "language": "python",
   "name": "python3"
  },
  "language_info": {
   "codemirror_mode": {
    "name": "ipython",
    "version": 3
   },
   "file_extension": ".py",
   "mimetype": "text/x-python",
   "name": "python",
   "nbconvert_exporter": "python",
   "pygments_lexer": "ipython3",
   "version": "3.7.4"
  }
 },
 "nbformat": 4,
 "nbformat_minor": 4
}
